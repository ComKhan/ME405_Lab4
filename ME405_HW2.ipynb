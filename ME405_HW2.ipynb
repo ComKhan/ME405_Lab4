{
 "cells": [
  {
   "cell_type": "markdown",
   "id": "2c792ca0",
   "metadata": {},
   "source": [
    "Name: Conrad Kinsey <br>\n",
    "\n",
    "Class: ME 405<br>\n",
    "Assignment: Homework 2\n",
    "\n",
    "<h3>Hand Calculations</h3>\n",
    "<h4>Forward Kinematics Functions</h4>\n",
    "x, y = f(theta1, theta2) =  cos(theta1 + cos(theta2) , sin(theta1) + sin(theta2)\n",
    "\n",
    "=>\n",
    "\n",
    "jacobian = df/dtheta =  [-sin(theta1), -sin(theta2); cos(theta1),  cos(theta2)]\n",
    "\n",
    "<h4>Newton Raphson Functions</h4>\n",
    "g(theta) = x-f(theta) \n",
    "\n",
    "=> \n",
    "\n",
    "dg/gtheta = -df/dtheta = -jacobian\n",
    "\n",
    "dg/gtheta = [sin(theta1), sin(theta2); -cos(theta1),  -cos(theta2)]"
   ]
  },
  {
   "cell_type": "markdown",
   "id": "1753abd2",
   "metadata": {},
   "source": [
    "<h2>Code</h2>\n"
   ]
  },
  {
   "cell_type": "markdown",
   "id": "6e79d6c8",
   "metadata": {},
   "source": [
    "<h3>Library Imports</h3>"
   ]
  },
  {
   "cell_type": "code",
   "execution_count": 33,
   "id": "a1544ba6",
   "metadata": {},
   "outputs": [],
   "source": [
    "import numpy as np\n",
    "import matplotlib.pyplot as plt\n",
    "from matplotlib.animation import FuncAnimation\n",
    "import math"
   ]
  },
  {
   "cell_type": "markdown",
   "id": "e20f4fae",
   "metadata": {},
   "source": [
    "<h3>Main Functions</h3>\n",
    "\n"
   ]
  },
  {
   "cell_type": "code",
   "execution_count": 34,
   "id": "63ce33b5",
   "metadata": {},
   "outputs": [],
   "source": [
    "def f(theta):\n",
    "    return [math.cos(theta[0])+math.cos(theta[1]) , math.sin(theta[0])+math.sin(theta[1])]"
   ]
  },
  {
   "cell_type": "code",
   "execution_count": 35,
   "id": "f4fa64e9",
   "metadata": {},
   "outputs": [],
   "source": [
    "def g(x, theta):\n",
    "    return np.subtract(np.array(x), np.array(f(theta)))"
   ]
  },
  {
   "cell_type": "code",
   "execution_count": 36,
   "id": "b8badec0",
   "metadata": {},
   "outputs": [],
   "source": [
    "def dg_dtheta(theta):\n",
    "    return np.array([[math.sin(theta[0]), math.sin(theta[1])], [-1*math.cos(theta[0]), -1*math.cos(theta[1])]])"
   ]
  },
  {
   "cell_type": "markdown",
   "id": "7a66b427",
   "metadata": {},
   "source": [
    "<h3>Newton Raphson Implementation</h3>"
   ]
  },
  {
   "cell_type": "code",
   "execution_count": 37,
   "id": "32eceb48",
   "metadata": {},
   "outputs": [],
   "source": [
    "def NewtonRaphson(fcn, jacobian, guess, thresh):\n",
    "    theta = guess\n",
    "    while(abs(fcn(theta)[0]) > thresh or abs(fcn(theta)[1]) > thresh):\n",
    "        theta = np.subtract(theta, np.linalg.inv(jacobian(theta))@ fcn(theta))\n",
    "    return theta\n"
   ]
  },
  {
   "cell_type": "code",
   "execution_count": 38,
   "id": "0eca64ce",
   "metadata": {},
   "outputs": [],
   "source": [
    "def myraph(dest, guess):\n",
    "    theta = NewtonRaphson(lambda theta: g(dest,theta), dg_dtheta, guess, 1e-6)\n",
    "    return theta"
   ]
  },
  {
   "cell_type": "markdown",
   "id": "569662d6",
   "metadata": {},
   "source": [
    "<h3>Array Setups for GIF</h3>"
   ]
  },
  {
   "cell_type": "code",
   "execution_count": 39,
   "id": "0fe7485c",
   "metadata": {},
   "outputs": [],
   "source": [
    "thet = np.arange(0, 2*math.pi, 1e-2)\n",
    "\n",
    "r = lambda theta: abs(1+0.9*math.sin(25*theta))\n",
    "x = list(map(lambda theta: 1+0.3*math.cos(4*theta)*r(theta),thet))\n",
    "y = list(map(lambda theta: 0.3*math.sin(4*theta)*r(theta),thet))\n",
    "\n",
    "theta = myraph([x[0],y[0]], [math.pi/4,math.pi/6])\n",
    "thets = []\n",
    "thets.append(theta)\n",
    "for i in range(len(x)-1):\n",
    "    theta = myraph([x[i],y[i]], theta)\n",
    "    thets.append(theta)\n"
   ]
  },
  {
   "cell_type": "markdown",
   "id": "256179c2",
   "metadata": {},
   "source": [
    "<h3>GIF Creation</h3>"
   ]
  },
  {
   "cell_type": "code",
   "execution_count": 40,
   "id": "036aa3e6",
   "metadata": {},
   "outputs": [
    {
     "name": "stderr",
     "output_type": "stream",
     "text": [
      "MovieWriter ffmpeg unavailable; using Pillow instead.\n"
     ]
    }
   ],
   "source": [
    "fig, ax = plt.subplots()\n",
    "\n",
    "ax.set_aspect('equal', adjustable='box')\n",
    "ax.set_xlim(-2,2)\n",
    "ax.set_ylim(-2,2)\n",
    "\n",
    "def animate(i):\n",
    "    ax.lines.clear()\n",
    "    theta = thets[i]\n",
    "    ax.plot(x[:i],y[:i], color = \"green\")\n",
    "    x1 = [0,math.cos(theta[0])]\n",
    "    y1 = [0,math.sin(theta[0])]\n",
    "    x2 = [math.cos(theta[0]), math.cos(theta[0])+ math.cos(theta[1])]\n",
    "    y2 = [math.sin(theta[0]), math.sin(theta[0])+ math.sin(theta[1])]\n",
    "    ax.plot(x1,y1,x2,y2, color = \"green\")\n",
    "    return theta\n",
    "\n",
    "anim = FuncAnimation(fig,animate,interval = 1, frames = len(x))\n",
    "plt.close()\n",
    "anim.save(\"func.gif\", fps = 30)"
   ]
  },
  {
   "attachments": {},
   "cell_type": "markdown",
   "id": "4350cbb4",
   "metadata": {},
   "source": [
    "<h3>GIF in Action</h3>\n",
    "<img src=\"func.gif\" width=\"400\" align=\"center\">"
   ]
  }
 ],
 "metadata": {
  "interpreter": {
   "hash": "9cb3437a87c5978ddc8ab2d49213ff5e4f802f87e91d95cd8f6e6920e3cdf818"
  },
  "kernelspec": {
   "display_name": "Python 3 (ipykernel)",
   "language": "python",
   "name": "python3"
  },
  "language_info": {
   "codemirror_mode": {
    "name": "ipython",
    "version": 3
   },
   "file_extension": ".py",
   "mimetype": "text/x-python",
   "name": "python",
   "nbconvert_exporter": "python",
   "pygments_lexer": "ipython3",
   "version": "3.10.1"
  }
 },
 "nbformat": 4,
 "nbformat_minor": 5
}
